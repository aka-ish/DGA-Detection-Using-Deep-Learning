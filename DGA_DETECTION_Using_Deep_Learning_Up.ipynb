{
 "cells": [
  {
   "cell_type": "code",
   "execution_count": null,
   "id": "835112d0",
   "metadata": {},
   "outputs": [],
   "source": [
    "!pip install flask"
   ]
  },
  {
   "cell_type": "code",
   "execution_count": 2,
   "id": "d4695b13",
   "metadata": {},
   "outputs": [
    {
     "name": "stdout",
     "output_type": "stream",
     "text": [
      "Requirement already satisfied: tld in c:\\users\\shubh\\miniconda3\\lib\\site-packages (0.13)\n",
      "Note: you may need to restart the kernel to use updated packages.\n"
     ]
    }
   ],
   "source": []
  },
  {
   "cell_type": "code",
   "execution_count": 3,
   "id": "628556b8",
   "metadata": {},
   "outputs": [],
   "source": [
    "import pandas as pd\n",
    "import numpy as np\n",
    "import seaborn as sns\n",
    "import matplotlib.pyplot as plt\n",
    "import re\n",
    "from collections import Counter\n",
    "from math import log2\n",
    "from tld import get_tld\n",
    "from sklearn.preprocessing import LabelEncoder, StandardScaler\n",
    "from tensorflow.keras.preprocessing.text import Tokenizer\n",
    "#from keras.preprocessing.sequence import pad_sequences\n",
    "from keras.models import Sequential\n",
    "from keras.layers import Embedding,LSTM,Dense,Dropout\n",
    "from sklearn.model_selection import train_test_split, GridSearchCV\n",
    "from catboost import CatBoostClassifier\n",
    "#from xgboost import XGBClassifier\n",
    "from sklearn.ensemble import RandomForestClassifier\n",
    "#from imblearn.over_sampling import SMOTE\n",
    "from sklearn.preprocessing import StandardScaler\n",
    "from sklearn.model_selection import train_test_split\n",
    "from sklearn.linear_model import LogisticRegression\n",
    "from sklearn.tree import DecisionTreeClassifier\n",
    "from sklearn.svm import SVC\n",
    "from sklearn.neighbors import KNeighborsClassifier\n",
    "from sklearn.metrics import accuracy_score,confusion_matrix\n"
   ]
  },
  {
   "cell_type": "code",
   "execution_count": 4,
   "id": "ecbd68b6",
   "metadata": {},
   "outputs": [],
   "source": [
    "# Load data\n",
    "data = pd.read_csv('Domain_names.csv')\n",
    "\n",
    "# Extracted Features\n",
    "data['Domain Length'] = data['Domain Names'].apply(len)\n",
    "data['Subdomain Count'] = data['Domain Names'].apply(lambda x: x.count('.'))\n",
    "data['TLD Length'] = data['Domain Names'].apply(lambda x: len(x.split('.')[-1]))\n",
    "data['Hyphen Count'] = data['Domain Names'].apply(lambda x: x.count('-'))\n",
    "data['Numeric Frequency'] = data['Domain Names'].apply(lambda x: sum(c.isdigit() for c in x))\n",
    "data['Vowel Count'] = data['Domain Names'].apply(lambda x: sum(c in 'aeiou' for c in x.lower()))\n",
    "data['Consonant Count'] = data['Domain Names'].apply(lambda x: sum(c.isalpha() and c not in 'aeiou' for c in x.lower()))\n",
    "\n",
    "def entropy(s):\n",
    "    p, lns = Counter(s), float(len(s))\n",
    "    return -sum(count/lns * log2(count/lns) for count in p.values())\n",
    "data['Entropy Score'] = data['Domain Names'].apply(entropy)\n",
    "\n",
    "domain_rank = np.random.randint(1, 1000, size=len(data))\n",
    "\n",
    "common_words = ['bank', 'secure', 'payment', 'login', 'paypal', 'account']\n",
    "data['Common Words Count'] = data['Domain Names'].apply(lambda x: sum(word in x.lower() for word in common_words))\n",
    "\n",
    "data['Domain Parts Count'] = data['Domain Names'].apply(lambda x: len(x.split('.')))\n",
    "data['Dots Count'] = data['Domain Names'].apply(lambda x: x.count('.'))\n",
    "\n",
    "\n",
    "n=3\n",
    "tokenizer = Tokenizer(char_level =True, filters='')\n",
    "tokenizer.fit_on_texts(data['Domain Names'])\n",
    "data['n_grams'] = tokenizer.texts_to_sequences(data['Domain Names'])\n",
    "\n",
    "\n",
    "\n",
    "# Save the modified DataFrame to the same CSV file\n",
    "data.to_csv('Domain_names.csv', index=False)\n"
   ]
  },
  {
   "cell_type": "code",
   "execution_count": 5,
   "id": "e812df92",
   "metadata": {},
   "outputs": [],
   "source": [
    "df = pd.read_csv(\"Domain_names.csv\")"
   ]
  },
  {
   "cell_type": "code",
   "execution_count": 6,
   "id": "2b17c7f0",
   "metadata": {},
   "outputs": [
    {
     "data": {
      "text/html": [
       "<div>\n",
       "<style scoped>\n",
       "    .dataframe tbody tr th:only-of-type {\n",
       "        vertical-align: middle;\n",
       "    }\n",
       "\n",
       "    .dataframe tbody tr th {\n",
       "        vertical-align: top;\n",
       "    }\n",
       "\n",
       "    .dataframe thead th {\n",
       "        text-align: right;\n",
       "    }\n",
       "</style>\n",
       "<table border=\"1\" class=\"dataframe\">\n",
       "  <thead>\n",
       "    <tr style=\"text-align: right;\">\n",
       "      <th></th>\n",
       "      <th>Label</th>\n",
       "      <th>Origin</th>\n",
       "      <th>Domain Names</th>\n",
       "      <th>Domain Length</th>\n",
       "      <th>Subdomain Count</th>\n",
       "      <th>TLD Length</th>\n",
       "      <th>Hyphen Count</th>\n",
       "      <th>Numeric Frequency</th>\n",
       "      <th>Vowel Count</th>\n",
       "      <th>Consonant Count</th>\n",
       "      <th>Entropy Score</th>\n",
       "      <th>Common Words Count</th>\n",
       "      <th>Domain Parts Count</th>\n",
       "      <th>Dots Count</th>\n",
       "      <th>n_grams</th>\n",
       "    </tr>\n",
       "  </thead>\n",
       "  <tbody>\n",
       "    <tr>\n",
       "      <th>0</th>\n",
       "      <td>dga</td>\n",
       "      <td>corebot</td>\n",
       "      <td>cvyh1po636avyrsxebwbkn7.ddns.net</td>\n",
       "      <td>32</td>\n",
       "      <td>2</td>\n",
       "      <td>3</td>\n",
       "      <td>0</td>\n",
       "      <td>5</td>\n",
       "      <td>4</td>\n",
       "      <td>21</td>\n",
       "      <td>4.351410</td>\n",
       "      <td>0</td>\n",
       "      <td>3</td>\n",
       "      <td>2</td>\n",
       "      <td>[4, 23, 21, 20, 31, 16, 1, 32, 34, 32, 5, 23, ...</td>\n",
       "    </tr>\n",
       "    <tr>\n",
       "      <th>1</th>\n",
       "      <td>legit</td>\n",
       "      <td>alexa</td>\n",
       "      <td>plasticbags.sa.com</td>\n",
       "      <td>18</td>\n",
       "      <td>2</td>\n",
       "      <td>3</td>\n",
       "      <td>0</td>\n",
       "      <td>0</td>\n",
       "      <td>5</td>\n",
       "      <td>11</td>\n",
       "      <td>3.419382</td>\n",
       "      <td>0</td>\n",
       "      <td>3</td>\n",
       "      <td>2</td>\n",
       "      <td>[16, 13, 5, 11, 10, 7, 4, 17, 5, 15, 11, 3, 11...</td>\n",
       "    </tr>\n",
       "    <tr>\n",
       "      <th>2</th>\n",
       "      <td>legit</td>\n",
       "      <td>alexa</td>\n",
       "      <td>mzltrack.com</td>\n",
       "      <td>12</td>\n",
       "      <td>1</td>\n",
       "      <td>3</td>\n",
       "      <td>0</td>\n",
       "      <td>0</td>\n",
       "      <td>2</td>\n",
       "      <td>9</td>\n",
       "      <td>3.251629</td>\n",
       "      <td>0</td>\n",
       "      <td>2</td>\n",
       "      <td>1</td>\n",
       "      <td>[6, 27, 13, 10, 9, 5, 4, 18, 3, 4, 1, 6]</td>\n",
       "    </tr>\n",
       "    <tr>\n",
       "      <th>3</th>\n",
       "      <td>legit</td>\n",
       "      <td>alexa</td>\n",
       "      <td>miss-slim.ru</td>\n",
       "      <td>12</td>\n",
       "      <td>1</td>\n",
       "      <td>2</td>\n",
       "      <td>1</td>\n",
       "      <td>0</td>\n",
       "      <td>3</td>\n",
       "      <td>7</td>\n",
       "      <td>2.855389</td>\n",
       "      <td>0</td>\n",
       "      <td>2</td>\n",
       "      <td>1</td>\n",
       "      <td>[6, 7, 11, 11, 28, 11, 13, 7, 6, 3, 9, 12]</td>\n",
       "    </tr>\n",
       "    <tr>\n",
       "      <th>4</th>\n",
       "      <td>dga</td>\n",
       "      <td>ranbyus</td>\n",
       "      <td>txumyqrubwutbb.cc</td>\n",
       "      <td>17</td>\n",
       "      <td>1</td>\n",
       "      <td>2</td>\n",
       "      <td>0</td>\n",
       "      <td>0</td>\n",
       "      <td>3</td>\n",
       "      <td>13</td>\n",
       "      <td>3.292770</td>\n",
       "      <td>0</td>\n",
       "      <td>2</td>\n",
       "      <td>1</td>\n",
       "      <td>[10, 25, 12, 6, 21, 24, 9, 12, 17, 22, 12, 10,...</td>\n",
       "    </tr>\n",
       "  </tbody>\n",
       "</table>\n",
       "</div>"
      ],
      "text/plain": [
       "   Label   Origin                      Domain Names  Domain Length  \\\n",
       "0    dga  corebot  cvyh1po636avyrsxebwbkn7.ddns.net             32   \n",
       "1  legit    alexa                plasticbags.sa.com             18   \n",
       "2  legit    alexa                      mzltrack.com             12   \n",
       "3  legit    alexa                      miss-slim.ru             12   \n",
       "4    dga  ranbyus                 txumyqrubwutbb.cc             17   \n",
       "\n",
       "   Subdomain Count  TLD Length  Hyphen Count  Numeric Frequency  Vowel Count  \\\n",
       "0                2           3             0                  5            4   \n",
       "1                2           3             0                  0            5   \n",
       "2                1           3             0                  0            2   \n",
       "3                1           2             1                  0            3   \n",
       "4                1           2             0                  0            3   \n",
       "\n",
       "   Consonant Count  Entropy Score  Common Words Count  Domain Parts Count  \\\n",
       "0               21       4.351410                   0                   3   \n",
       "1               11       3.419382                   0                   3   \n",
       "2                9       3.251629                   0                   2   \n",
       "3                7       2.855389                   0                   2   \n",
       "4               13       3.292770                   0                   2   \n",
       "\n",
       "   Dots Count                                            n_grams  \n",
       "0           2  [4, 23, 21, 20, 31, 16, 1, 32, 34, 32, 5, 23, ...  \n",
       "1           2  [16, 13, 5, 11, 10, 7, 4, 17, 5, 15, 11, 3, 11...  \n",
       "2           1           [6, 27, 13, 10, 9, 5, 4, 18, 3, 4, 1, 6]  \n",
       "3           1         [6, 7, 11, 11, 28, 11, 13, 7, 6, 3, 9, 12]  \n",
       "4           1  [10, 25, 12, 6, 21, 24, 9, 12, 17, 22, 12, 10,...  "
      ]
     },
     "execution_count": 6,
     "metadata": {},
     "output_type": "execute_result"
    }
   ],
   "source": [
    "df.head()"
   ]
  },
  {
   "cell_type": "code",
   "execution_count": 7,
   "id": "e74edc7c",
   "metadata": {},
   "outputs": [
    {
     "data": {
      "text/plain": [
       "(674897, 15)"
      ]
     },
     "execution_count": 7,
     "metadata": {},
     "output_type": "execute_result"
    }
   ],
   "source": [
    "df.shape"
   ]
  },
  {
   "cell_type": "code",
   "execution_count": 8,
   "id": "3614c9fa",
   "metadata": {},
   "outputs": [
    {
     "data": {
      "text/plain": [
       "Label                 674897\n",
       "Origin                674897\n",
       "Domain Names          674897\n",
       "Domain Length         674897\n",
       "Subdomain Count       674897\n",
       "TLD Length            674897\n",
       "Hyphen Count          674897\n",
       "Numeric Frequency     674897\n",
       "Vowel Count           674897\n",
       "Consonant Count       674897\n",
       "Entropy Score         674897\n",
       "Common Words Count    674897\n",
       "Domain Parts Count    674897\n",
       "Dots Count            674897\n",
       "n_grams               674897\n",
       "dtype: int64"
      ]
     },
     "execution_count": 8,
     "metadata": {},
     "output_type": "execute_result"
    }
   ],
   "source": [
    "df.count()"
   ]
  },
  {
   "cell_type": "code",
   "execution_count": 9,
   "id": "4bf0d1f8",
   "metadata": {},
   "outputs": [
    {
     "data": {
      "text/plain": [
       "0    673039\n",
       "1      1842\n",
       "2        15\n",
       "3         1\n",
       "Name: Common Words Count, dtype: int64"
      ]
     },
     "execution_count": 9,
     "metadata": {},
     "output_type": "execute_result"
    }
   ],
   "source": [
    "df['Common Words Count'].value_counts()"
   ]
  },
  {
   "cell_type": "code",
   "execution_count": 10,
   "id": "292ecc7f",
   "metadata": {},
   "outputs": [
    {
     "data": {
      "text/plain": [
       "2    585809\n",
       "3     86999\n",
       "4      2084\n",
       "5         5\n",
       "Name: Domain Parts Count, dtype: int64"
      ]
     },
     "execution_count": 10,
     "metadata": {},
     "output_type": "execute_result"
    }
   ],
   "source": [
    "df['Domain Parts Count'].value_counts()"
   ]
  },
  {
   "cell_type": "code",
   "execution_count": 11,
   "id": "27fc6a15",
   "metadata": {},
   "outputs": [
    {
     "data": {
      "text/plain": [
       "3     428171\n",
       "2     220449\n",
       "4      21529\n",
       "6       2152\n",
       "7       1092\n",
       "5        956\n",
       "8        410\n",
       "9         68\n",
       "10        35\n",
       "11        15\n",
       "13        10\n",
       "12         9\n",
       "14         1\n",
       "Name: TLD Length, dtype: int64"
      ]
     },
     "execution_count": 11,
     "metadata": {},
     "output_type": "execute_result"
    }
   ],
   "source": [
    "df['TLD Length'].value_counts()"
   ]
  },
  {
   "cell_type": "code",
   "execution_count": 12,
   "id": "4d25478b",
   "metadata": {},
   "outputs": [
    {
     "data": {
      "text/plain": [
       "3.251629    14845\n",
       "3.521641    11509\n",
       "3.095795    11400\n",
       "3.392747    11055\n",
       "3.121928    10494\n",
       "            ...  \n",
       "3.574418        1\n",
       "3.710669        1\n",
       "3.693223        1\n",
       "4.697846        1\n",
       "3.624881        1\n",
       "Name: Entropy Score, Length: 9116, dtype: int64"
      ]
     },
     "execution_count": 12,
     "metadata": {},
     "output_type": "execute_result"
    }
   ],
   "source": [
    "df['Entropy Score'].value_counts()"
   ]
  },
  {
   "cell_type": "code",
   "execution_count": 13,
   "id": "5588baad",
   "metadata": {},
   "outputs": [
    {
     "data": {
      "text/plain": [
       "Index(['Label', 'Origin', 'Domain Names', 'Domain Length', 'Subdomain Count',\n",
       "       'TLD Length', 'Hyphen Count', 'Numeric Frequency', 'Vowel Count',\n",
       "       'Consonant Count', 'Entropy Score', 'Common Words Count',\n",
       "       'Domain Parts Count', 'Dots Count', 'n_grams'],\n",
       "      dtype='object')"
      ]
     },
     "execution_count": 13,
     "metadata": {},
     "output_type": "execute_result"
    }
   ],
   "source": [
    "df.columns"
   ]
  },
  {
   "cell_type": "code",
   "execution_count": 14,
   "id": "d470c209",
   "metadata": {},
   "outputs": [
    {
     "data": {
      "text/plain": [
       "16    57755\n",
       "14    54883\n",
       "11    53591\n",
       "20    52545\n",
       "12    48864\n",
       "19    45623\n",
       "13    43276\n",
       "15    42747\n",
       "17    34836\n",
       "18    32496\n",
       "10    28395\n",
       "21    28289\n",
       "22    25705\n",
       "9     18671\n",
       "24    16256\n",
       "23    14875\n",
       "8     11966\n",
       "28    10778\n",
       "32     7140\n",
       "7      6636\n",
       "25     5871\n",
       "26     5327\n",
       "29     4494\n",
       "27     4483\n",
       "30     4049\n",
       "31     3702\n",
       "6      1938\n",
       "33     1779\n",
       "34     1215\n",
       "42      977\n",
       "41      958\n",
       "43      823\n",
       "40      735\n",
       "35      650\n",
       "44      578\n",
       "39      451\n",
       "36      397\n",
       "45      290\n",
       "37      287\n",
       "38      274\n",
       "46      159\n",
       "47       59\n",
       "48       31\n",
       "73        9\n",
       "49        7\n",
       "51        5\n",
       "53        4\n",
       "50        4\n",
       "52        4\n",
       "72        2\n",
       "64        2\n",
       "71        1\n",
       "54        1\n",
       "60        1\n",
       "67        1\n",
       "63        1\n",
       "62        1\n",
       "Name: Domain Length, dtype: int64"
      ]
     },
     "execution_count": 14,
     "metadata": {},
     "output_type": "execute_result"
    }
   ],
   "source": [
    "df['Domain Length'].value_counts()"
   ]
  },
  {
   "cell_type": "code",
   "execution_count": 15,
   "id": "6394c4ac",
   "metadata": {},
   "outputs": [
    {
     "data": {
      "text/plain": [
       "dga      337499\n",
       "legit    337398\n",
       "Name: Label, dtype: int64"
      ]
     },
     "execution_count": 15,
     "metadata": {},
     "output_type": "execute_result"
    }
   ],
   "source": [
    "df['Label'].value_counts()"
   ]
  },
  {
   "cell_type": "code",
   "execution_count": 16,
   "id": "627e1410",
   "metadata": {},
   "outputs": [
    {
     "data": {
      "image/png": "[encoded data removed]",
      "text/plain": [
       "<Figure size 640x480 with 1 Axes>"
      ]
     },
     "metadata": {},
     "output_type": "display_data"
    }
   ],
   "source": [
    "sns.countplot(data=df,x='Common Words Count')\n",
    "plt.show()"
   ]
  },
  {
   "cell_type": "code",
   "execution_count": 17,
   "id": "d9d93804",
   "metadata": {},
   "outputs": [
    {
     "data": {
      "image/png": "[encoded data removed]",
      "text/plain": [
       "<Figure size 640x480 with 1 Axes>"
      ]
     },
     "metadata": {},
     "output_type": "display_data"
    }
   ],
   "source": [
    "sns.countplot(data=df,x='Domain Parts Count')\n",
    "plt.show()"
   ]
  },
  {
   "cell_type": "code",
   "execution_count": 18,
   "id": "dd022725",
   "metadata": {},
   "outputs": [
    {
     "data": {
      "image/png": "[encoded data removed]",
      "text/plain": [
       "<Figure size 640x480 with 1 Axes>"
      ]
     },
     "metadata": {},
     "output_type": "display_data"
    }
   ],
   "source": [
    "sns.countplot(data=df,x='TLD Length')\n",
    "plt.show()"
   ]
  },
  {
   "cell_type": "code",
   "execution_count": 19,
   "id": "887b9090",
   "metadata": {},
   "outputs": [
    {
     "data": {
      "image/png": "[encoded data removed]",
      "text/plain": [
       "<Figure size 1200x600 with 1 Axes>"
      ]
     },
     "metadata": {},
     "output_type": "display_data"
    }
   ],
   "source": [
    "plt.figure(figsize=(12,6))\n",
    "ax=sns.countplot(data=df,x='Domain Length')\n",
    "ax.set_xticklabels(ax.get_xticklabels(), rotation=45, ha ='right')\n",
    "plt.show()"
   ]
  },
  {
   "cell_type": "code",
   "execution_count": 20,
   "id": "a438b30c",
   "metadata": {},
   "outputs": [],
   "source": [
    "#Here after encoding \n",
    "\n",
    "#0 ----> DGA\n",
    "#1 ------> Legit\n",
    "\n",
    "\n",
    "label = LabelEncoder()\n",
    "df['label'] = label.fit_transform(df['Label'])"
   ]
  },
  {
   "cell_type": "code",
   "execution_count": 21,
   "id": "d1fda801",
   "metadata": {},
   "outputs": [
    {
     "data": {
      "text/plain": [
       "0    337499\n",
       "1    337398\n",
       "Name: label, dtype: int64"
      ]
     },
     "execution_count": 21,
     "metadata": {},
     "output_type": "execute_result"
    }
   ],
   "source": [
    "df['label'].value_counts()"
   ]
  },
  {
   "cell_type": "code",
   "execution_count": 22,
   "id": "3e3e7240",
   "metadata": {},
   "outputs": [
    {
     "data": {
      "text/plain": [
       "Index(['Label', 'Origin', 'Domain Names', 'Domain Length', 'Subdomain Count',\n",
       "       'TLD Length', 'Hyphen Count', 'Numeric Frequency', 'Vowel Count',\n",
       "       'Consonant Count', 'Entropy Score', 'Common Words Count',\n",
       "       'Domain Parts Count', 'Dots Count', 'n_grams', 'label'],\n",
       "      dtype='object')"
      ]
     },
     "execution_count": 22,
     "metadata": {},
     "output_type": "execute_result"
    }
   ],
   "source": [
    "df.columns"
   ]
  },
  {
   "cell_type": "code",
   "execution_count": 23,
   "id": "a547a31a",
   "metadata": {},
   "outputs": [],
   "source": [
    "df = df.drop(['Label'],axis=1)"
   ]
  },
  {
   "cell_type": "code",
   "execution_count": 24,
   "id": "243db449",
   "metadata": {},
   "outputs": [
    {
     "data": {
      "text/plain": [
       "Index(['Origin', 'Domain Names', 'Domain Length', 'Subdomain Count',\n",
       "       'TLD Length', 'Hyphen Count', 'Numeric Frequency', 'Vowel Count',\n",
       "       'Consonant Count', 'Entropy Score', 'Common Words Count',\n",
       "       'Domain Parts Count', 'Dots Count', 'n_grams', 'label'],\n",
       "      dtype='object')"
      ]
     },
     "execution_count": 24,
     "metadata": {},
     "output_type": "execute_result"
    }
   ],
   "source": [
    "df.columns"
   ]
  },
  {
   "cell_type": "code",
   "execution_count": 25,
   "id": "33bccd2c",
   "metadata": {},
   "outputs": [
    {
     "data": {
      "text/html": [
       "<div>\n",
       "<style scoped>\n",
       "    .dataframe tbody tr th:only-of-type {\n",
       "        vertical-align: middle;\n",
       "    }\n",
       "\n",
       "    .dataframe tbody tr th {\n",
       "        vertical-align: top;\n",
       "    }\n",
       "\n",
       "    .dataframe thead th {\n",
       "        text-align: right;\n",
       "    }\n",
       "</style>\n",
       "<table border=\"1\" class=\"dataframe\">\n",
       "  <thead>\n",
       "    <tr style=\"text-align: right;\">\n",
       "      <th></th>\n",
       "      <th>Origin</th>\n",
       "      <th>Domain Names</th>\n",
       "      <th>Domain Length</th>\n",
       "      <th>Subdomain Count</th>\n",
       "      <th>TLD Length</th>\n",
       "      <th>Hyphen Count</th>\n",
       "      <th>Numeric Frequency</th>\n",
       "      <th>Vowel Count</th>\n",
       "      <th>Consonant Count</th>\n",
       "      <th>Entropy Score</th>\n",
       "      <th>Common Words Count</th>\n",
       "      <th>Domain Parts Count</th>\n",
       "      <th>Dots Count</th>\n",
       "      <th>n_grams</th>\n",
       "      <th>label</th>\n",
       "    </tr>\n",
       "  </thead>\n",
       "  <tbody>\n",
       "    <tr>\n",
       "      <th>0</th>\n",
       "      <td>corebot</td>\n",
       "      <td>cvyh1po636avyrsxebwbkn7.ddns.net</td>\n",
       "      <td>32</td>\n",
       "      <td>2</td>\n",
       "      <td>3</td>\n",
       "      <td>0</td>\n",
       "      <td>5</td>\n",
       "      <td>4</td>\n",
       "      <td>21</td>\n",
       "      <td>4.351410</td>\n",
       "      <td>0</td>\n",
       "      <td>3</td>\n",
       "      <td>2</td>\n",
       "      <td>[4, 23, 21, 20, 31, 16, 1, 32, 34, 32, 5, 23, ...</td>\n",
       "      <td>0</td>\n",
       "    </tr>\n",
       "    <tr>\n",
       "      <th>1</th>\n",
       "      <td>alexa</td>\n",
       "      <td>plasticbags.sa.com</td>\n",
       "      <td>18</td>\n",
       "      <td>2</td>\n",
       "      <td>3</td>\n",
       "      <td>0</td>\n",
       "      <td>0</td>\n",
       "      <td>5</td>\n",
       "      <td>11</td>\n",
       "      <td>3.419382</td>\n",
       "      <td>0</td>\n",
       "      <td>3</td>\n",
       "      <td>2</td>\n",
       "      <td>[16, 13, 5, 11, 10, 7, 4, 17, 5, 15, 11, 3, 11...</td>\n",
       "      <td>1</td>\n",
       "    </tr>\n",
       "    <tr>\n",
       "      <th>2</th>\n",
       "      <td>alexa</td>\n",
       "      <td>mzltrack.com</td>\n",
       "      <td>12</td>\n",
       "      <td>1</td>\n",
       "      <td>3</td>\n",
       "      <td>0</td>\n",
       "      <td>0</td>\n",
       "      <td>2</td>\n",
       "      <td>9</td>\n",
       "      <td>3.251629</td>\n",
       "      <td>0</td>\n",
       "      <td>2</td>\n",
       "      <td>1</td>\n",
       "      <td>[6, 27, 13, 10, 9, 5, 4, 18, 3, 4, 1, 6]</td>\n",
       "      <td>1</td>\n",
       "    </tr>\n",
       "    <tr>\n",
       "      <th>3</th>\n",
       "      <td>alexa</td>\n",
       "      <td>miss-slim.ru</td>\n",
       "      <td>12</td>\n",
       "      <td>1</td>\n",
       "      <td>2</td>\n",
       "      <td>1</td>\n",
       "      <td>0</td>\n",
       "      <td>3</td>\n",
       "      <td>7</td>\n",
       "      <td>2.855389</td>\n",
       "      <td>0</td>\n",
       "      <td>2</td>\n",
       "      <td>1</td>\n",
       "      <td>[6, 7, 11, 11, 28, 11, 13, 7, 6, 3, 9, 12]</td>\n",
       "      <td>1</td>\n",
       "    </tr>\n",
       "    <tr>\n",
       "      <th>4</th>\n",
       "      <td>ranbyus</td>\n",
       "      <td>txumyqrubwutbb.cc</td>\n",
       "      <td>17</td>\n",
       "      <td>1</td>\n",
       "      <td>2</td>\n",
       "      <td>0</td>\n",
       "      <td>0</td>\n",
       "      <td>3</td>\n",
       "      <td>13</td>\n",
       "      <td>3.292770</td>\n",
       "      <td>0</td>\n",
       "      <td>2</td>\n",
       "      <td>1</td>\n",
       "      <td>[10, 25, 12, 6, 21, 24, 9, 12, 17, 22, 12, 10,...</td>\n",
       "      <td>0</td>\n",
       "    </tr>\n",
       "  </tbody>\n",
       "</table>\n",
       "</div>"
      ],
      "text/plain": [
       "    Origin                      Domain Names  Domain Length  Subdomain Count  \\\n",
       "0  corebot  cvyh1po636avyrsxebwbkn7.ddns.net             32                2   \n",
       "1    alexa                plasticbags.sa.com             18                2   \n",
       "2    alexa                      mzltrack.com             12                1   \n",
       "3    alexa                      miss-slim.ru             12                1   \n",
       "4  ranbyus                 txumyqrubwutbb.cc             17                1   \n",
       "\n",
       "   TLD Length  Hyphen Count  Numeric Frequency  Vowel Count  Consonant Count  \\\n",
       "0           3             0                  5            4               21   \n",
       "1           3             0                  0            5               11   \n",
       "2           3             0                  0            2                9   \n",
       "3           2             1                  0            3                7   \n",
       "4           2             0                  0            3               13   \n",
       "\n",
       "   Entropy Score  Common Words Count  Domain Parts Count  Dots Count  \\\n",
       "0       4.351410                   0                   3           2   \n",
       "1       3.419382                   0                   3           2   \n",
       "2       3.251629                   0                   2           1   \n",
       "3       2.855389                   0                   2           1   \n",
       "4       3.292770                   0                   2           1   \n",
       "\n",
       "                                             n_grams  label  \n",
       "0  [4, 23, 21, 20, 31, 16, 1, 32, 34, 32, 5, 23, ...      0  \n",
       "1  [16, 13, 5, 11, 10, 7, 4, 17, 5, 15, 11, 3, 11...      1  \n",
       "2           [6, 27, 13, 10, 9, 5, 4, 18, 3, 4, 1, 6]      1  \n",
       "3         [6, 7, 11, 11, 28, 11, 13, 7, 6, 3, 9, 12]      1  \n",
       "4  [10, 25, 12, 6, 21, 24, 9, 12, 17, 22, 12, 10,...      0  "
      ]
     },
     "execution_count": 25,
     "metadata": {},
     "output_type": "execute_result"
    }
   ],
   "source": [
    "df.head()"
   ]
  },
  {
   "cell_type": "code",
   "execution_count": 26,
   "id": "0e6be106",
   "metadata": {},
   "outputs": [
    {
     "data": {
      "text/plain": [
       "Origin                 object\n",
       "Domain Names           object\n",
       "Domain Length           int64\n",
       "Subdomain Count         int64\n",
       "TLD Length              int64\n",
       "Hyphen Count            int64\n",
       "Numeric Frequency       int64\n",
       "Vowel Count             int64\n",
       "Consonant Count         int64\n",
       "Entropy Score         float64\n",
       "Common Words Count      int64\n",
       "Domain Parts Count      int64\n",
       "Dots Count              int64\n",
       "n_grams                object\n",
       "label                   int32\n",
       "dtype: object"
      ]
     },
     "execution_count": 26,
     "metadata": {},
     "output_type": "execute_result"
    }
   ],
   "source": [
    "df.dtypes"
   ]
  },
  {
   "cell_type": "code",
   "execution_count": 27,
   "id": "fec9e2ab",
   "metadata": {},
   "outputs": [
    {
     "name": "stdout",
     "output_type": "stream",
     "text": [
      "['Domain Length', 'Subdomain Count', 'TLD Length', 'Hyphen Count', 'Numeric Frequency', 'Vowel Count', 'Consonant Count', 'Entropy Score', 'Common Words Count', 'Domain Parts Count', 'Dots Count', 'label']\n"
     ]
    }
   ],
   "source": [
    "num_col = []\n",
    "for i in df.columns:\n",
    "    if df[i].dtypes == 'int64' or df[i].dtypes == 'float64' or df[i].dtypes=='int32':\n",
    "        num_col.append(i)\n",
    "        \n",
    "        \n",
    "print(num_col)"
   ]
  },
  {
   "cell_type": "code",
   "execution_count": 28,
   "id": "cecb27ae",
   "metadata": {},
   "outputs": [
    {
     "name": "stderr",
     "output_type": "stream",
     "text": [
      "C:\\Users\\shubh\\AppData\\Local\\Temp\\ipykernel_3552\\2943803821.py:2: FutureWarning: The default value of numeric_only in DataFrame.corr is deprecated. In a future version, it will default to False. Select only valid columns or specify the value of numeric_only to silence this warning.\n",
      "  sns.heatmap(df.corr(), annot=True, cmap='coolwarm')\n"
     ]
    },
    {
     "data": {
      "image/png": "[encoded data removed]",
      "text/plain": [
       "<Figure size 1000x800 with 2 Axes>"
      ]
     },
     "metadata": {},
     "output_type": "display_data"
    }
   ],
   "source": [
    "plt.figure(figsize=(10, 8))\n",
    "sns.heatmap(df.corr(), annot=True, cmap='coolwarm')\n",
    "plt.title('Correlation Heatmap')\n",
    "plt.show()\n"
   ]
  },
  {
   "cell_type": "code",
   "execution_count": 29,
   "id": "d065b77b",
   "metadata": {},
   "outputs": [
    {
     "data": {
      "text/plain": [
       "['Domain Length',\n",
       " 'Subdomain Count',\n",
       " 'TLD Length',\n",
       " 'Hyphen Count',\n",
       " 'Numeric Frequency',\n",
       " 'Vowel Count',\n",
       " 'Consonant Count',\n",
       " 'Entropy Score',\n",
       " 'Common Words Count',\n",
       " 'Domain Parts Count',\n",
       " 'Dots Count',\n",
       " 'label']"
      ]
     },
     "execution_count": 29,
     "metadata": {},
     "output_type": "execute_result"
    }
   ],
   "source": [
    "num_col"
   ]
  },
  {
   "cell_type": "code",
   "execution_count": 30,
   "id": "7b032686",
   "metadata": {},
   "outputs": [],
   "source": [
    "new_df = df[num_col]"
   ]
  },
  {
   "cell_type": "code",
   "execution_count": 31,
   "id": "bb23484d",
   "metadata": {},
   "outputs": [
    {
     "data": {
      "text/plain": [
       "Index(['Domain Length', 'Subdomain Count', 'TLD Length', 'Hyphen Count',\n",
       "       'Numeric Frequency', 'Vowel Count', 'Consonant Count', 'Entropy Score',\n",
       "       'Common Words Count', 'Domain Parts Count', 'Dots Count', 'label'],\n",
       "      dtype='object')"
      ]
     },
     "execution_count": 31,
     "metadata": {},
     "output_type": "execute_result"
    }
   ],
   "source": [
    "new_df.columns"
   ]
  },
  {
   "cell_type": "code",
   "execution_count": 32,
   "id": "e734f139",
   "metadata": {},
   "outputs": [
    {
     "data": {
      "text/html": [
       "<div>\n",
       "<style scoped>\n",
       "    .dataframe tbody tr th:only-of-type {\n",
       "        vertical-align: middle;\n",
       "    }\n",
       "\n",
       "    .dataframe tbody tr th {\n",
       "        vertical-align: top;\n",
       "    }\n",
       "\n",
       "    .dataframe thead th {\n",
       "        text-align: right;\n",
       "    }\n",
       "</style>\n",
       "<table border=\"1\" class=\"dataframe\">\n",
       "  <thead>\n",
       "    <tr style=\"text-align: right;\">\n",
       "      <th></th>\n",
       "      <th>Domain Length</th>\n",
       "      <th>Subdomain Count</th>\n",
       "      <th>TLD Length</th>\n",
       "      <th>Hyphen Count</th>\n",
       "      <th>Numeric Frequency</th>\n",
       "      <th>Vowel Count</th>\n",
       "      <th>Consonant Count</th>\n",
       "      <th>Entropy Score</th>\n",
       "      <th>Common Words Count</th>\n",
       "      <th>Domain Parts Count</th>\n",
       "      <th>Dots Count</th>\n",
       "      <th>label</th>\n",
       "    </tr>\n",
       "  </thead>\n",
       "  <tbody>\n",
       "    <tr>\n",
       "      <th>0</th>\n",
       "      <td>32</td>\n",
       "      <td>2</td>\n",
       "      <td>3</td>\n",
       "      <td>0</td>\n",
       "      <td>5</td>\n",
       "      <td>4</td>\n",
       "      <td>21</td>\n",
       "      <td>4.351410</td>\n",
       "      <td>0</td>\n",
       "      <td>3</td>\n",
       "      <td>2</td>\n",
       "      <td>0</td>\n",
       "    </tr>\n",
       "    <tr>\n",
       "      <th>1</th>\n",
       "      <td>18</td>\n",
       "      <td>2</td>\n",
       "      <td>3</td>\n",
       "      <td>0</td>\n",
       "      <td>0</td>\n",
       "      <td>5</td>\n",
       "      <td>11</td>\n",
       "      <td>3.419382</td>\n",
       "      <td>0</td>\n",
       "      <td>3</td>\n",
       "      <td>2</td>\n",
       "      <td>1</td>\n",
       "    </tr>\n",
       "    <tr>\n",
       "      <th>2</th>\n",
       "      <td>12</td>\n",
       "      <td>1</td>\n",
       "      <td>3</td>\n",
       "      <td>0</td>\n",
       "      <td>0</td>\n",
       "      <td>2</td>\n",
       "      <td>9</td>\n",
       "      <td>3.251629</td>\n",
       "      <td>0</td>\n",
       "      <td>2</td>\n",
       "      <td>1</td>\n",
       "      <td>1</td>\n",
       "    </tr>\n",
       "    <tr>\n",
       "      <th>3</th>\n",
       "      <td>12</td>\n",
       "      <td>1</td>\n",
       "      <td>2</td>\n",
       "      <td>1</td>\n",
       "      <td>0</td>\n",
       "      <td>3</td>\n",
       "      <td>7</td>\n",
       "      <td>2.855389</td>\n",
       "      <td>0</td>\n",
       "      <td>2</td>\n",
       "      <td>1</td>\n",
       "      <td>1</td>\n",
       "    </tr>\n",
       "    <tr>\n",
       "      <th>4</th>\n",
       "      <td>17</td>\n",
       "      <td>1</td>\n",
       "      <td>2</td>\n",
       "      <td>0</td>\n",
       "      <td>0</td>\n",
       "      <td>3</td>\n",
       "      <td>13</td>\n",
       "      <td>3.292770</td>\n",
       "      <td>0</td>\n",
       "      <td>2</td>\n",
       "      <td>1</td>\n",
       "      <td>0</td>\n",
       "    </tr>\n",
       "  </tbody>\n",
       "</table>\n",
       "</div>"
      ],
      "text/plain": [
       "   Domain Length  Subdomain Count  TLD Length  Hyphen Count  \\\n",
       "0             32                2           3             0   \n",
       "1             18                2           3             0   \n",
       "2             12                1           3             0   \n",
       "3             12                1           2             1   \n",
       "4             17                1           2             0   \n",
       "\n",
       "   Numeric Frequency  Vowel Count  Consonant Count  Entropy Score  \\\n",
       "0                  5            4               21       4.351410   \n",
       "1                  0            5               11       3.419382   \n",
       "2                  0            2                9       3.251629   \n",
       "3                  0            3                7       2.855389   \n",
       "4                  0            3               13       3.292770   \n",
       "\n",
       "   Common Words Count  Domain Parts Count  Dots Count  label  \n",
       "0                   0                   3           2      0  \n",
       "1                   0                   3           2      1  \n",
       "2                   0                   2           1      1  \n",
       "3                   0                   2           1      1  \n",
       "4                   0                   2           1      0  "
      ]
     },
     "execution_count": 32,
     "metadata": {},
     "output_type": "execute_result"
    }
   ],
   "source": [
    "new_df.head()"
   ]
  },
  {
   "cell_type": "code",
   "execution_count": 33,
   "id": "a3fd4eb5",
   "metadata": {
    "scrolled": true
   },
   "outputs": [
    {
     "data": {
      "text/html": [
       "<div>\n",
       "<style scoped>\n",
       "    .dataframe tbody tr th:only-of-type {\n",
       "        vertical-align: middle;\n",
       "    }\n",
       "\n",
       "    .dataframe tbody tr th {\n",
       "        vertical-align: top;\n",
       "    }\n",
       "\n",
       "    .dataframe thead th {\n",
       "        text-align: right;\n",
       "    }\n",
       "</style>\n",
       "<table border=\"1\" class=\"dataframe\">\n",
       "  <thead>\n",
       "    <tr style=\"text-align: right;\">\n",
       "      <th></th>\n",
       "      <th>Domain Length</th>\n",
       "      <th>Subdomain Count</th>\n",
       "      <th>TLD Length</th>\n",
       "      <th>Hyphen Count</th>\n",
       "      <th>Numeric Frequency</th>\n",
       "      <th>Vowel Count</th>\n",
       "      <th>Consonant Count</th>\n",
       "      <th>Entropy Score</th>\n",
       "      <th>Common Words Count</th>\n",
       "      <th>Domain Parts Count</th>\n",
       "      <th>Dots Count</th>\n",
       "      <th>label</th>\n",
       "    </tr>\n",
       "  </thead>\n",
       "  <tbody>\n",
       "    <tr>\n",
       "      <th>0</th>\n",
       "      <td>32</td>\n",
       "      <td>2</td>\n",
       "      <td>3</td>\n",
       "      <td>0</td>\n",
       "      <td>5</td>\n",
       "      <td>4</td>\n",
       "      <td>21</td>\n",
       "      <td>4.351410</td>\n",
       "      <td>0</td>\n",
       "      <td>3</td>\n",
       "      <td>2</td>\n",
       "      <td>0</td>\n",
       "    </tr>\n",
       "    <tr>\n",
       "      <th>1</th>\n",
       "      <td>18</td>\n",
       "      <td>2</td>\n",
       "      <td>3</td>\n",
       "      <td>0</td>\n",
       "      <td>0</td>\n",
       "      <td>5</td>\n",
       "      <td>11</td>\n",
       "      <td>3.419382</td>\n",
       "      <td>0</td>\n",
       "      <td>3</td>\n",
       "      <td>2</td>\n",
       "      <td>1</td>\n",
       "    </tr>\n",
       "    <tr>\n",
       "      <th>2</th>\n",
       "      <td>12</td>\n",
       "      <td>1</td>\n",
       "      <td>3</td>\n",
       "      <td>0</td>\n",
       "      <td>0</td>\n",
       "      <td>2</td>\n",
       "      <td>9</td>\n",
       "      <td>3.251629</td>\n",
       "      <td>0</td>\n",
       "      <td>2</td>\n",
       "      <td>1</td>\n",
       "      <td>1</td>\n",
       "    </tr>\n",
       "    <tr>\n",
       "      <th>3</th>\n",
       "      <td>12</td>\n",
       "      <td>1</td>\n",
       "      <td>2</td>\n",
       "      <td>1</td>\n",
       "      <td>0</td>\n",
       "      <td>3</td>\n",
       "      <td>7</td>\n",
       "      <td>2.855389</td>\n",
       "      <td>0</td>\n",
       "      <td>2</td>\n",
       "      <td>1</td>\n",
       "      <td>1</td>\n",
       "    </tr>\n",
       "    <tr>\n",
       "      <th>4</th>\n",
       "      <td>17</td>\n",
       "      <td>1</td>\n",
       "      <td>2</td>\n",
       "      <td>0</td>\n",
       "      <td>0</td>\n",
       "      <td>3</td>\n",
       "      <td>13</td>\n",
       "      <td>3.292770</td>\n",
       "      <td>0</td>\n",
       "      <td>2</td>\n",
       "      <td>1</td>\n",
       "      <td>0</td>\n",
       "    </tr>\n",
       "    <tr>\n",
       "      <th>...</th>\n",
       "      <td>...</td>\n",
       "      <td>...</td>\n",
       "      <td>...</td>\n",
       "      <td>...</td>\n",
       "      <td>...</td>\n",
       "      <td>...</td>\n",
       "      <td>...</td>\n",
       "      <td>...</td>\n",
       "      <td>...</td>\n",
       "      <td>...</td>\n",
       "      <td>...</td>\n",
       "      <td>...</td>\n",
       "    </tr>\n",
       "    <tr>\n",
       "      <th>674892</th>\n",
       "      <td>20</td>\n",
       "      <td>1</td>\n",
       "      <td>3</td>\n",
       "      <td>0</td>\n",
       "      <td>0</td>\n",
       "      <td>3</td>\n",
       "      <td>16</td>\n",
       "      <td>3.041446</td>\n",
       "      <td>0</td>\n",
       "      <td>2</td>\n",
       "      <td>1</td>\n",
       "      <td>0</td>\n",
       "    </tr>\n",
       "    <tr>\n",
       "      <th>674893</th>\n",
       "      <td>19</td>\n",
       "      <td>1</td>\n",
       "      <td>2</td>\n",
       "      <td>0</td>\n",
       "      <td>0</td>\n",
       "      <td>3</td>\n",
       "      <td>15</td>\n",
       "      <td>3.642150</td>\n",
       "      <td>0</td>\n",
       "      <td>2</td>\n",
       "      <td>1</td>\n",
       "      <td>0</td>\n",
       "    </tr>\n",
       "    <tr>\n",
       "      <th>674894</th>\n",
       "      <td>10</td>\n",
       "      <td>1</td>\n",
       "      <td>3</td>\n",
       "      <td>0</td>\n",
       "      <td>0</td>\n",
       "      <td>3</td>\n",
       "      <td>6</td>\n",
       "      <td>3.121928</td>\n",
       "      <td>0</td>\n",
       "      <td>2</td>\n",
       "      <td>1</td>\n",
       "      <td>1</td>\n",
       "    </tr>\n",
       "    <tr>\n",
       "      <th>674895</th>\n",
       "      <td>18</td>\n",
       "      <td>1</td>\n",
       "      <td>3</td>\n",
       "      <td>0</td>\n",
       "      <td>0</td>\n",
       "      <td>4</td>\n",
       "      <td>13</td>\n",
       "      <td>3.836592</td>\n",
       "      <td>0</td>\n",
       "      <td>2</td>\n",
       "      <td>1</td>\n",
       "      <td>0</td>\n",
       "    </tr>\n",
       "    <tr>\n",
       "      <th>674896</th>\n",
       "      <td>12</td>\n",
       "      <td>1</td>\n",
       "      <td>2</td>\n",
       "      <td>0</td>\n",
       "      <td>0</td>\n",
       "      <td>6</td>\n",
       "      <td>5</td>\n",
       "      <td>3.188722</td>\n",
       "      <td>0</td>\n",
       "      <td>2</td>\n",
       "      <td>1</td>\n",
       "      <td>0</td>\n",
       "    </tr>\n",
       "  </tbody>\n",
       "</table>\n",
       "<p>674897 rows × 12 columns</p>\n",
       "</div>"
      ],
      "text/plain": [
       "        Domain Length  Subdomain Count  TLD Length  Hyphen Count  \\\n",
       "0                  32                2           3             0   \n",
       "1                  18                2           3             0   \n",
       "2                  12                1           3             0   \n",
       "3                  12                1           2             1   \n",
       "4                  17                1           2             0   \n",
       "...               ...              ...         ...           ...   \n",
       "674892             20                1           3             0   \n",
       "674893             19                1           2             0   \n",
       "674894             10                1           3             0   \n",
       "674895             18                1           3             0   \n",
       "674896             12                1           2             0   \n",
       "\n",
       "        Numeric Frequency  Vowel Count  Consonant Count  Entropy Score  \\\n",
       "0                       5            4               21       4.351410   \n",
       "1                       0            5               11       3.419382   \n",
       "2                       0            2                9       3.251629   \n",
       "3                       0            3                7       2.855389   \n",
       "4                       0            3               13       3.292770   \n",
       "...                   ...          ...              ...            ...   \n",
       "674892                  0            3               16       3.041446   \n",
       "674893                  0            3               15       3.642150   \n",
       "674894                  0            3                6       3.121928   \n",
       "674895                  0            4               13       3.836592   \n",
       "674896                  0            6                5       3.188722   \n",
       "\n",
       "        Common Words Count  Domain Parts Count  Dots Count  label  \n",
       "0                        0                   3           2      0  \n",
       "1                        0                   3           2      1  \n",
       "2                        0                   2           1      1  \n",
       "3                        0                   2           1      1  \n",
       "4                        0                   2           1      0  \n",
       "...                    ...                 ...         ...    ...  \n",
       "674892                   0                   2           1      0  \n",
       "674893                   0                   2           1      0  \n",
       "674894                   0                   2           1      1  \n",
       "674895                   0                   2           1      0  \n",
       "674896                   0                   2           1      0  \n",
       "\n",
       "[674897 rows x 12 columns]"
      ]
     },
     "execution_count": 33,
     "metadata": {},
     "output_type": "execute_result"
    }
   ],
   "source": [
    "new_df[num_col]"
   ]
  },
  {
   "cell_type": "code",
   "execution_count": 34,
   "id": "ffd6068b",
   "metadata": {},
   "outputs": [],
   "source": [
    "X = new_df.drop('label', axis=1)\n",
    "y = new_df['label']\n",
    "\n",
    "X_train, X_test, y_train, y_test = train_test_split(X, y, test_size=0.2, random_state=42)\n",
    "\n",
    "# Standardize features (if needed)\n",
    "scaler = StandardScaler()\n",
    "X_train_scaled = scaler.fit_transform(X_train)\n",
    "X_test_scaled = scaler.transform(X_test)\n",
    "\n"
   ]
  },
  {
   "cell_type": "code",
   "execution_count": 35,
   "id": "b8a51ab4",
   "metadata": {},
   "outputs": [
    {
     "name": "stdout",
     "output_type": "stream",
     "text": [
      "Classifier: Logistic Regression\n",
      "Accuracy: 0.7055\n",
      "Confusion Matrix:\n",
      "[[44426 22888]\n",
      " [16859 50807]]\n",
      "========================================\n",
      "Classifier: Decision Tree\n",
      "Accuracy: 0.8206\n",
      "Confusion Matrix:\n",
      "[[51613 15701]\n",
      " [ 8517 59149]]\n",
      "========================================\n",
      "Classifier: Random Forest\n",
      "Accuracy: 0.8219\n",
      "Confusion Matrix:\n",
      "[[51447 15867]\n",
      " [ 8172 59494]]\n",
      "========================================\n",
      "Classifier: k-Nearest Neighbors\n",
      "Accuracy: 0.7979\n",
      "Confusion Matrix:\n",
      "[[51933 15381]\n",
      " [11898 55768]]\n",
      "========================================\n"
     ]
    }
   ],
   "source": [
    "classifiers = [\n",
    "    ('Logistic Regression', LogisticRegression()),\n",
    "    ('Decision Tree', DecisionTreeClassifier()),\n",
    "    ('Random Forest', RandomForestClassifier()),\n",
    "    ('k-Nearest Neighbors', KNeighborsClassifier())\n",
    "]\n",
    "\n",
    "for name, clf in classifiers:\n",
    "    clf.fit(X_train_scaled, y_train)  # Train the classifier\n",
    "    y_pred = clf.predict(X_test_scaled)  # Predict on test data\n",
    "    accuracy = accuracy_score(y_test, y_pred)  # Calculate accuracy\n",
    "    confusion = confusion_matrix(y_test, y_pred)  # Confusion matrix\n",
    "\n",
    "    print(f\"Classifier: {name}\")\n",
    "    print(f\"Accuracy: {accuracy:.4f}\")\n",
    "    print(\"Confusion Matrix:\")\n",
    "    print(confusion)\n",
    "    print(\"=\" * 40)"
   ]
  },
  {
   "cell_type": "code",
   "execution_count": 36,
   "id": "6cae70f8",
   "metadata": {},
   "outputs": [
    {
     "name": "stdout",
     "output_type": "stream",
     "text": [
      "0:\tlearn: 0.6555897\ttotal: 251ms\tremaining: 4m 10s\n",
      "100:\tlearn: 0.3976752\ttotal: 8.88s\tremaining: 1m 19s\n",
      "200:\tlearn: 0.3825898\ttotal: 17.4s\tremaining: 1m 9s\n",
      "300:\tlearn: 0.3770761\ttotal: 26.3s\tremaining: 1m\n",
      "400:\tlearn: 0.3738234\ttotal: 34.9s\tremaining: 52.1s\n",
      "500:\tlearn: 0.3721615\ttotal: 44.2s\tremaining: 44s\n",
      "600:\tlearn: 0.3707848\ttotal: 53s\tremaining: 35.2s\n",
      "700:\tlearn: 0.3698210\ttotal: 1m 1s\tremaining: 26.2s\n",
      "800:\tlearn: 0.3690775\ttotal: 1m 9s\tremaining: 17.3s\n",
      "900:\tlearn: 0.3684260\ttotal: 1m 17s\tremaining: 8.56s\n",
      "999:\tlearn: 0.3677166\ttotal: 1m 26s\tremaining: 0us\n"
     ]
    },
    {
     "data": {
      "text/plain": [
       "<catboost.core.CatBoostClassifier at 0x268608e9fd0>"
      ]
     },
     "execution_count": 36,
     "metadata": {},
     "output_type": "execute_result"
    }
   ],
   "source": [
    "catboost_model = CatBoostClassifier(iterations=1000, depth=6, learning_rate=0.1,verbose=100)\n",
    "catboost_model.fit(X_train,y_train)"
   ]
  },
  {
   "cell_type": "code",
   "execution_count": 37,
   "id": "5a88dea2",
   "metadata": {},
   "outputs": [
    {
     "name": "stdout",
     "output_type": "stream",
     "text": [
      "CatBoost Model: \n",
      "Accuracy:  0.8253\n",
      "Confusion Matrix\n",
      "[[51438 15876]\n",
      " [ 7703 59963]]\n"
     ]
    }
   ],
   "source": [
    "y_pred_catboost = catboost_model.predict(X_test)\n",
    "accuracy_catboost = accuracy_score(y_test, y_pred_catboost)\n",
    "conf_matrix_catboost = confusion_matrix(y_test,y_pred_catboost)\n",
    "\n",
    "print(\"CatBoost Model: \")\n",
    "print(f\"Accuracy: {accuracy_catboost: .4f}\")\n",
    "print(\"Confusion Matrix\")\n",
    "print(conf_matrix_catboost)"
   ]
  },
  {
   "cell_type": "code",
   "execution_count": 38,
   "id": "39b1f404",
   "metadata": {},
   "outputs": [
    {
     "name": "stdout",
     "output_type": "stream",
     "text": [
      "Random Forest Results:\n",
      "Best Parameters: {'max_depth': None, 'min_samples_leaf': 1, 'min_samples_split': 2, 'n_estimators': 200}\n",
      "Accuracy: 0.8221958808712402\n",
      "Confusion Matrix:\n",
      " [[51400 15914]\n",
      " [ 8086 59580]]\n",
      "Classification Report:\n",
      "               precision    recall  f1-score   support\n",
      "\n",
      "           0       0.86      0.76      0.81     67314\n",
      "           1       0.79      0.88      0.83     67666\n",
      "\n",
      "    accuracy                           0.82    134980\n",
      "   macro avg       0.83      0.82      0.82    134980\n",
      "weighted avg       0.83      0.82      0.82    134980\n",
      "\n"
     ]
    }
   ],
   "source": [
    "from sklearn.ensemble import RandomForestClassifier\n",
    "from sklearn.model_selection import GridSearchCV\n",
    "from sklearn.metrics import accuracy_score, confusion_matrix, classification_report\n",
    "\n",
    "# Create a subset of the data for faster testing (you can adjust the sample size)\n",
    "sample_size = 20000\n",
    "X_train_subset = X_train[:sample_size]\n",
    "y_train_subset = y_train[:sample_size]\n",
    "\n",
    "# Define the parameter grid for Random Forest\n",
    "param_grid = {\n",
    "    'n_estimators': [200],\n",
    "    'max_depth': [None],\n",
    "    'min_samples_split': [2],\n",
    "    'min_samples_leaf': [1]\n",
    "}\n",
    "\n",
    "# Initialize the Random Forest classifier\n",
    "rf_classifier = RandomForestClassifier()\n",
    "\n",
    "# Perform Grid Search with reduced parameter grid and smaller dataset\n",
    "grid_rf = GridSearchCV(rf_classifier, param_grid, cv=3, n_jobs=-1)\n",
    "grid_rf.fit(X_train_subset, y_train_subset)\n",
    "\n",
    "# Get the best parameters\n",
    "best_rf_params = grid_rf.best_params_\n",
    "\n",
    "# Initialize a new Random Forest model with the best parameters\n",
    "best_rf_model = RandomForestClassifier(**best_rf_params)\n",
    "best_rf_model.fit(X_train, y_train)\n",
    "\n",
    "# Predict on the test set\n",
    "y_pred_rf = best_rf_model.predict(X_test)\n",
    "\n",
    "# Calculate accuracy and other metrics\n",
    "accuracy_rf = accuracy_score(y_test, y_pred_rf)\n",
    "conf_matrix_rf = confusion_matrix(y_test, y_pred_rf)\n",
    "classification_rep_rf = classification_report(y_test, y_pred_rf)\n",
    "\n",
    "# Print results\n",
    "print(\"Random Forest Results:\")\n",
    "print(\"Best Parameters:\", best_rf_params)\n",
    "print(\"Accuracy:\", accuracy_rf)\n",
    "print(\"Confusion Matrix:\\n\", conf_matrix_rf)\n",
    "print(\"Classification Report:\\n\", classification_rep_rf)\n"
   ]
  },
  {
   "cell_type": "code",
   "execution_count": 39,
   "id": "8a759e6c",
   "metadata": {},
   "outputs": [
    {
     "data": {
      "text/plain": [
       "'param_grid = {\\n    \\'max_depth\\': [10, 20],\\n    \\'min_samples_split\\': [5, 10],\\n    \\'min_samples_leaf\\': [2, 4],\\n    \\'criterion\\': [\\'gini\\', \\'entropy\\']\\n}\\n\\ndt_classifier = DecisionTreeClassifier()\\n\\ngrid_search = GridSearchCV(dt_classifier,param_grid, cv=5, n_jobs=-1, verbose=2)\\ngrid_search.fit(X_train,y_train)\\n\\nbest_params = grid_search.best_params_\\nprint(\"Best Hyper parameters are: \",best_params)\\n\\nbest_models = grid_search.best_estimator_\\ny_pred = best_model.predict(X_test)\\n\\naccuracy = accuracy_score(y_test, y_pred)\\nconf_matrix = confusion_matrix(y_test,y_pred)\\n\\nprint(\"Best Decision Tree Model:\")\\nprint(f\"Accuracy: {accuracy:.4f}\")\\nprint(\"Confusion Matrix:\")\\nprint(conf_matrix)\\n'"
      ]
     },
     "execution_count": 39,
     "metadata": {},
     "output_type": "execute_result"
    }
   ],
   "source": [
    "'''param_grid = {\n",
    "    'max_depth': [10, 20],\n",
    "    'min_samples_split': [5, 10],\n",
    "    'min_samples_leaf': [2, 4],\n",
    "    'criterion': ['gini', 'entropy']\n",
    "}\n",
    "\n",
    "dt_classifier = DecisionTreeClassifier()\n",
    "\n",
    "grid_search = GridSearchCV(dt_classifier,param_grid, cv=5, n_jobs=-1, verbose=2)\n",
    "grid_search.fit(X_train,y_train)\n",
    "\n",
    "best_params = grid_search.best_params_\n",
    "print(\"Best Hyper parameters are: \",best_params)\n",
    "\n",
    "best_models = grid_search.best_estimator_\n",
    "y_pred = best_model.predict(X_test)\n",
    "\n",
    "accuracy = accuracy_score(y_test, y_pred)\n",
    "conf_matrix = confusion_matrix(y_test,y_pred)\n",
    "\n",
    "print(\"Best Decision Tree Model:\")\n",
    "print(f\"Accuracy: {accuracy:.4f}\")\n",
    "print(\"Confusion Matrix:\")\n",
    "print(conf_matrix)\n",
    "'''"
   ]
  },
  {
   "cell_type": "code",
   "execution_count": 40,
   "id": "5ec5ff02",
   "metadata": {},
   "outputs": [
    {
     "data": {
      "text/plain": [
       "'param_grid = {\\n    \\'C\\': [0.001, 0.01, 0.1, 1, 10, 100],\\n    \\'penalty\\': [\\'l1\\', \\'l2\\'],\\n    \\'max_iter\\': [100, 200, 300],\\n}\\n\\nlogreg = LogisticRegression()\\n\\n\\ngrid_search = GridSearchCV(estimator=logreg, param_grid=param_grid, cv=5, scoring=\\'accuracy\\')\\ngrid_search.fit(X_train, y_train)\\n\\n\\nbest_params = grid_search.best_params_\\nbest_model = grid_search.best_estimator_\\n\\ny_pred = best_model.predict(X_test)\\naccuracy = accuracy_score(y_test, y_pred)\\n\\nprint(\"Best Hyperparameters:\", best_params)\\nprint(\"Best Model:\", best_model)\\nprint(f\"Accuracy on Test Set: {accuracy:.4f}\")\\n'"
      ]
     },
     "execution_count": 40,
     "metadata": {},
     "output_type": "execute_result"
    }
   ],
   "source": [
    "\n",
    "'''param_grid = {\n",
    "    'C': [0.001, 0.01, 0.1, 1, 10, 100],\n",
    "    'penalty': ['l1', 'l2'],\n",
    "    'max_iter': [100, 200, 300],\n",
    "}\n",
    "\n",
    "logreg = LogisticRegression()\n",
    "\n",
    "\n",
    "grid_search = GridSearchCV(estimator=logreg, param_grid=param_grid, cv=5, scoring='accuracy')\n",
    "grid_search.fit(X_train, y_train)\n",
    "\n",
    "\n",
    "best_params = grid_search.best_params_\n",
    "best_model = grid_search.best_estimator_\n",
    "\n",
    "y_pred = best_model.predict(X_test)\n",
    "accuracy = accuracy_score(y_test, y_pred)\n",
    "\n",
    "print(\"Best Hyperparameters:\", best_params)\n",
    "print(\"Best Model:\", best_model)\n",
    "print(f\"Accuracy on Test Set: {accuracy:.4f}\")\n",
    "'''\n"
   ]
  },
  {
   "cell_type": "code",
   "execution_count": 41,
   "id": "06d7e461",
   "metadata": {},
   "outputs": [],
   "source": [
    "from tensorflow.keras.callbacks import EarlyStopping"
   ]
  },
  {
   "cell_type": "code",
   "execution_count": 42,
   "id": "ebe24456",
   "metadata": {},
   "outputs": [
    {
     "name": "stdout",
     "output_type": "stream",
     "text": [
      "Epoch 1/10\n",
      "6749/6749 [==============================] - 136s 20ms/step - loss: 0.4612 - accuracy: 0.7720 - val_loss: 0.4040 - val_accuracy: 0.8109\n",
      "Epoch 2/10\n",
      "6749/6749 [==============================] - 134s 20ms/step - loss: 0.4078 - accuracy: 0.8098 - val_loss: 0.3887 - val_accuracy: 0.8175\n",
      "Epoch 3/10\n",
      "6749/6749 [==============================] - 134s 20ms/step - loss: 0.3972 - accuracy: 0.8155 - val_loss: 0.3853 - val_accuracy: 0.8195\n",
      "Epoch 4/10\n",
      "6749/6749 [==============================] - 134s 20ms/step - loss: 0.3917 - accuracy: 0.8176 - val_loss: 0.3818 - val_accuracy: 0.8199\n",
      "Epoch 5/10\n",
      "6749/6749 [==============================] - 134s 20ms/step - loss: 0.3884 - accuracy: 0.8191 - val_loss: 0.3808 - val_accuracy: 0.8213\n",
      "Epoch 6/10\n",
      "6749/6749 [==============================] - 134s 20ms/step - loss: 0.3863 - accuracy: 0.8199 - val_loss: 0.3817 - val_accuracy: 0.8226\n",
      "Epoch 7/10\n",
      "6749/6749 [==============================] - 134s 20ms/step - loss: 0.3851 - accuracy: 0.8200 - val_loss: 0.3757 - val_accuracy: 0.8237\n",
      "Epoch 8/10\n",
      "6749/6749 [==============================] - 134s 20ms/step - loss: 0.3828 - accuracy: 0.8214 - val_loss: 0.3770 - val_accuracy: 0.8221\n",
      "Epoch 9/10\n",
      "6749/6749 [==============================] - 134s 20ms/step - loss: 0.3816 - accuracy: 0.8216 - val_loss: 0.3751 - val_accuracy: 0.8233\n",
      "Epoch 10/10\n",
      "6749/6749 [==============================] - 141s 21ms/step - loss: 0.3809 - accuracy: 0.8217 - val_loss: 0.3741 - val_accuracy: 0.8234\n"
     ]
    },
    {
     "data": {
      "text/plain": [
       "<keras.src.callbacks.History at 0x268985bba90>"
      ]
     },
     "execution_count": 42,
     "metadata": {},
     "output_type": "execute_result"
    }
   ],
   "source": [
    "\n",
    "\n",
    "model_lstm = Sequential()\n",
    "model_lstm.add(LSTM(128, input_shape=(X_train_scaled.shape[1], 1), return_sequences=True))\n",
    "model_lstm.add(Dropout(0.5))\n",
    "model_lstm.add(LSTM(64))\n",
    "model_lstm.add(Dropout(0.5))\n",
    "model_lstm.add(Dense(1, activation='sigmoid'))\n",
    "\n",
    "model_lstm.compile(loss='binary_crossentropy',optimizer='adam',metrics=['accuracy'])\n",
    "\n",
    "early_stopping = EarlyStopping(monitor='val_loss', patience=3, restore_best_weights=True)\n",
    "\n",
    "model_lstm.fit(X_train_scaled.reshape(X_train_scaled.shape[0], X_train_scaled.shape[1],1),\n",
    "              y_train, epochs=10,batch_size=64, validation_split=0.2, verbose=1)\n",
    "              \n"
   ]
  },
  {
   "cell_type": "code",
   "execution_count": 43,
   "id": "803d3043",
   "metadata": {},
   "outputs": [],
   "source": [
    "from sklearn.metrics import f1_score,precision_score,recall_score"
   ]
  },
  {
   "cell_type": "code",
   "execution_count": 44,
   "id": "70e1d200",
   "metadata": {},
   "outputs": [
    {
     "name": "stdout",
     "output_type": "stream",
     "text": [
      "4219/4219 [==============================] - 18s 4ms/step\n",
      "LSTM Model:\n",
      "Accuracy: 0.8236, F1 Score: 0.8349, Precision: 0.7865, Recall: 0.8896\n",
      "\n"
     ]
    }
   ],
   "source": [
    "X_test_reshaped = X_test_scaled.reshape(X_test_scaled.shape[0], X_test_scaled.shape[1], 1)\n",
    "y_pred_prob_lstm = model_lstm.predict(X_test_reshaped)\n",
    "y_pred_lstm = (y_pred_prob_lstm > 0.5).astype(int)\n",
    "accuracy_lstm = accuracy_score(y_test, y_pred_lstm)\n",
    "f1_lstm = f1_score(y_test, y_pred_lstm)\n",
    "precision_lstm = precision_score(y_test, y_pred_lstm)\n",
    "recall_lstm = recall_score(y_test, y_pred_lstm)\n",
    "print(\"LSTM Model:\")\n",
    "print(f\"Accuracy: {accuracy_lstm:.4f}, F1 Score: {f1_lstm:.4f}, Precision: {precision_lstm:.4f}, Recall: {recall_lstm:.4f}\\n\")"
   ]
  },
  {
   "cell_type": "code",
   "execution_count": null,
   "id": "854b5f27",
   "metadata": {},
   "outputs": [],
   "source": []
  },
  {
   "cell_type": "code",
   "execution_count": 45,
   "id": "f8d2e4d7",
   "metadata": {},
   "outputs": [
    {
     "data": {
      "text/html": [
       "<style>#sk-container-id-1 {color: black;background-color: white;}#sk-container-id-1 pre{padding: 0;}#sk-container-id-1 div.sk-toggleable {background-color: white;}#sk-container-id-1 label.sk-toggleable__label {cursor: pointer;display: block;width: 100%;margin-bottom: 0;padding: 0.3em;box-sizing: border-box;text-align: center;}#sk-container-id-1 label.sk-toggleable__label-arrow:before {content: \"▸\";float: left;margin-right: 0.25em;color: #696969;}#sk-container-id-1 label.sk-toggleable__label-arrow:hover:before {color: black;}#sk-container-id-1 div.sk-estimator:hover label.sk-toggleable__label-arrow:before {color: black;}#sk-container-id-1 div.sk-toggleable__content {max-height: 0;max-width: 0;overflow: hidden;text-align: left;background-color: #f0f8ff;}#sk-container-id-1 div.sk-toggleable__content pre {margin: 0.2em;color: black;border-radius: 0.25em;background-color: #f0f8ff;}#sk-container-id-1 input.sk-toggleable__control:checked~div.sk-toggleable__content {max-height: 200px;max-width: 100%;overflow: auto;}#sk-container-id-1 input.sk-toggleable__control:checked~label.sk-toggleable__label-arrow:before {content: \"▾\";}#sk-container-id-1 div.sk-estimator input.sk-toggleable__control:checked~label.sk-toggleable__label {background-color: #d4ebff;}#sk-container-id-1 div.sk-label input.sk-toggleable__control:checked~label.sk-toggleable__label {background-color: #d4ebff;}#sk-container-id-1 input.sk-hidden--visually {border: 0;clip: rect(1px 1px 1px 1px);clip: rect(1px, 1px, 1px, 1px);height: 1px;margin: -1px;overflow: hidden;padding: 0;position: absolute;width: 1px;}#sk-container-id-1 div.sk-estimator {font-family: monospace;background-color: #f0f8ff;border: 1px dotted black;border-radius: 0.25em;box-sizing: border-box;margin-bottom: 0.5em;}#sk-container-id-1 div.sk-estimator:hover {background-color: #d4ebff;}#sk-container-id-1 div.sk-parallel-item::after {content: \"\";width: 100%;border-bottom: 1px solid gray;flex-grow: 1;}#sk-container-id-1 div.sk-label:hover label.sk-toggleable__label {background-color: #d4ebff;}#sk-container-id-1 div.sk-serial::before {content: \"\";position: absolute;border-left: 1px solid gray;box-sizing: border-box;top: 0;bottom: 0;left: 50%;z-index: 0;}#sk-container-id-1 div.sk-serial {display: flex;flex-direction: column;align-items: center;background-color: white;padding-right: 0.2em;padding-left: 0.2em;position: relative;}#sk-container-id-1 div.sk-item {position: relative;z-index: 1;}#sk-container-id-1 div.sk-parallel {display: flex;align-items: stretch;justify-content: center;background-color: white;position: relative;}#sk-container-id-1 div.sk-item::before, #sk-container-id-1 div.sk-parallel-item::before {content: \"\";position: absolute;border-left: 1px solid gray;box-sizing: border-box;top: 0;bottom: 0;left: 50%;z-index: -1;}#sk-container-id-1 div.sk-parallel-item {display: flex;flex-direction: column;z-index: 1;position: relative;background-color: white;}#sk-container-id-1 div.sk-parallel-item:first-child::after {align-self: flex-end;width: 50%;}#sk-container-id-1 div.sk-parallel-item:last-child::after {align-self: flex-start;width: 50%;}#sk-container-id-1 div.sk-parallel-item:only-child::after {width: 0;}#sk-container-id-1 div.sk-dashed-wrapped {border: 1px dashed gray;margin: 0 0.4em 0.5em 0.4em;box-sizing: border-box;padding-bottom: 0.4em;background-color: white;}#sk-container-id-1 div.sk-label label {font-family: monospace;font-weight: bold;display: inline-block;line-height: 1.2em;}#sk-container-id-1 div.sk-label-container {text-align: center;}#sk-container-id-1 div.sk-container {/* jupyter's `normalize.less` sets `[hidden] { display: none; }` but bootstrap.min.css set `[hidden] { display: none !important; }` so we also need the `!important` here to be able to override the default hidden behavior on the sphinx rendered scikit-learn.org. See: https://github.com/scikit-learn/scikit-learn/issues/21755 */display: inline-block !important;position: relative;}#sk-container-id-1 div.sk-text-repr-fallback {display: none;}</style><div id=\"sk-container-id-1\" class=\"sk-top-container\"><div class=\"sk-text-repr-fallback\"><pre>RandomForestClassifier()</pre><b>In a Jupyter environment, please rerun this cell to show the HTML representation or trust the notebook. <br />On GitHub, the HTML representation is unable to render, please try loading this page with nbviewer.org.</b></div><div class=\"sk-container\" hidden><div class=\"sk-item\"><div class=\"sk-estimator sk-toggleable\"><input class=\"sk-toggleable__control sk-hidden--visually\" id=\"sk-estimator-id-1\" type=\"checkbox\" checked><label for=\"sk-estimator-id-1\" class=\"sk-toggleable__label sk-toggleable__label-arrow\">RandomForestClassifier</label><div class=\"sk-toggleable__content\"><pre>RandomForestClassifier()</pre></div></div></div></div></div>"
      ],
      "text/plain": [
       "RandomForestClassifier()"
      ]
     },
     "execution_count": 45,
     "metadata": {},
     "output_type": "execute_result"
    }
   ],
   "source": [
    "import joblib\n",
    "\n",
    "random_forest_model = RandomForestClassifier()\n",
    "random_forest_model.fit(X_train_scaled, y_train)\n",
    "\n"
   ]
  },
  {
   "cell_type": "code",
   "execution_count": 56,
   "id": "86c4d08e",
   "metadata": {},
   "outputs": [
    {
     "name": "stdout",
     "output_type": "stream",
     "text": [
      "[0 1]\n"
     ]
    },
    {
     "name": "stderr",
     "output_type": "stream",
     "text": [
      "C:\\Users\\shubh\\miniconda3\\lib\\site-packages\\sklearn\\base.py:439: UserWarning: X does not have valid feature names, but StandardScaler was fitted with feature names\n",
      "  warnings.warn(\n"
     ]
    }
   ],
   "source": [
    "model_filename = 'random_forest_model.pkl'\n",
    "joblib.dump(random_forest_model,model_filename)\n",
    "\n",
    "loaded_model_rf = joblib.load(model_filename)\n",
    "\n",
    "new_data =new_data = [\n",
    "    [15, 2, 2, 0, 1, 3, 12, 4.5, 0, 3, 1],  # Features for instance 1\n",
    "    [25, 3, 3, 1, 0, 6, 19, 3.2, 1, 4, 2]  # Features for instance 2\n",
    "]\n",
    "\n",
    "new_data_scaled = scaler.transform(new_data)\n",
    "\n",
    "predictions = loaded_model_rf.predict(new_data_scaled)\n",
    "\n",
    "print(predictions)"
   ]
  },
  {
   "cell_type": "code",
   "execution_count": null,
   "id": "42f06a93",
   "metadata": {},
   "outputs": [],
   "source": [
    "dga_data = [[12,0,3,0,5,2,5,3.19,0,2,2]]\n",
    "\n",
    "new_dga_scaled = scaler.transform(dga_data)\n",
    "predictions_rf = loaded_model_rf.predict(new_dga_scaled)\n",
    "print(predictions_rf)"
   ]
  },
  {
   "cell_type": "code",
   "execution_count": 55,
   "id": "7a937c1b",
   "metadata": {},
   "outputs": [],
   "source": [
    "import pandas as pd\n",
    "import numpy as np\n",
    "from sklearn.preprocessing import StandardScaler\n",
    "import joblib\n",
    "from sklearn.metrics import accuracy_score, confusion_matrix\n",
    "from sklearn.model_selection import train_test_split\n",
    "from sklearn.ensemble import RandomForestClassifier\n",
    "from sklearn.utils import shuffle\n",
    "from sklearn.feature_extraction.text import CountVectorizer\n",
    "from math import log2\n",
    "\n",
    "# Calculate entropy score\n",
    "def calculate_entropy(domain):\n",
    "    char_count = len(domain)\n",
    "    char_freq = {}\n",
    "    \n",
    "    for char in domain:\n",
    "        if char in char_freq:\n",
    "            char_freq[char] += 1\n",
    "        else:\n",
    "            char_freq[char] = 1\n",
    "            \n",
    "    entropy = 0\n",
    "    for freq in char_freq.values():\n",
    "        prob = freq / char_count\n",
    "        entropy -= prob * log2(prob)\n",
    "    \n",
    "    return entropy\n",
    "\n",
    "# Count common words\n",
    "def count_common_words(domain):\n",
    "    common_words = ['online', 'shop', 'store', 'bank', 'secure', 'login']\n",
    "    count = 0\n",
    "    for word in common_words:\n",
    "        if word in domain:\n",
    "            count += 1\n",
    "    return count\n",
    "\n",
    "model_filename = 'random_forest_model.pkl'\n",
    "joblib.dump(random_forest_model,model_filename)\n",
    "\n",
    "loaded_model_rf = joblib.load(model_filename)\n"
   ]
  },
  {
   "cell_type": "code",
   "execution_count": 62,
   "id": "5b59a5bc",
   "metadata": {},
   "outputs": [
    {
     "name": "stdout",
     "output_type": "stream",
     "text": [
      "X has 2 features, but RandomForestClassifier is expecting 11 features as input.\n",
      "X has 2 features, but RandomForestClassifier is expecting 11 features as input.\n",
      "X has 2 features, but RandomForestClassifier is expecting 11 features as input.\n",
      "X has 2 features, but RandomForestClassifier is expecting 11 features as input.\n",
      "X has 2 features, but RandomForestClassifier is expecting 11 features as input.\n",
      "X has 2 features, but RandomForestClassifier is expecting 11 features as input.\n",
      "X has 2 features, but RandomForestClassifier is expecting 11 features as input.\n",
      "X has 2 features, but RandomForestClassifier is expecting 11 features as input.\n",
      "X has 2 features, but RandomForestClassifier is expecting 11 features as input.\n"
     ]
    }
   ],
   "source": [
    "def predict_dga(domain_name, model, scaler, tokenizer):\n",
    "    try:\n",
    "        # Preprocess the domain name\n",
    "        domain_name = domain_name.lower()\n",
    "        \n",
    "        # Calculate features for the domain\n",
    "        entropy_score = calculate_entropy(domain_name)\n",
    "        common_words_count = count_common_words(domain_name)\n",
    "        \n",
    "        # Scale the features using the same scaler used during training (if applicable)\n",
    "        # scaled_features = scaler.transform(features)\n",
    "        \n",
    "        # Make a prediction using the model\n",
    "        # Replace this with your actual feature values\n",
    "        features = [entropy_score, common_words_count]\n",
    "        prediction = model.predict(np.array([features]))[0]\n",
    "        \n",
    "        # Convert the prediction to a human-readable label (e.g., 'legit' or 'dga')\n",
    "        label = 'legit' if prediction == 0 else 'dga'\n",
    "        return label\n",
    "\n",
    "    except Exception as e:\n",
    "        return str(e)\n",
    "domain_name_1 = ['a7b3f9c2d1.xyz','x3y5z8a2b1.net','q1r7s4t9u2.org','j5k2l8m3n1.com','google.com','amazon.com','microsoft.com','apple.com','cnn.com']\n",
    "for i in domain_name_1:\n",
    "     predictions = predict_dga(i, loaded_model_rf, scaler, tokenizer)\n",
    "     print(predictions)\n",
    "\n",
    "    "
   ]
  },
  {
   "cell_type": "code",
   "execution_count": 63,
   "id": "2992c0e1",
   "metadata": {},
   "outputs": [
    {
     "name": "stdout",
     "output_type": "stream",
     "text": [
      "X has 2 features, but RandomForestClassifier is expecting 11 features as input.\n"
     ]
    }
   ],
   "source": [
    "predictions = predict_dga('d3e7f4g9h2.org', loaded_model_rf,scaler,tokenizer)\n",
    "print(predictions)"
   ]
  },
  {
   "cell_type": "code",
   "execution_count": 64,
   "id": "d431c460",
   "metadata": {},
   "outputs": [
    {
     "name": "stdout",
     "output_type": "stream",
     "text": [
      "X has 2 features, but RandomForestClassifier is expecting 11 features as input.\n"
     ]
    }
   ],
   "source": [
    "\n",
    "predictions = predict_dga('linkedin.com', loaded_model_rf,scaler,tokenizer)\n",
    "print(predictions)"
   ]
  },
  {
   "cell_type": "code",
   "execution_count": 65,
   "id": "131f1013",
   "metadata": {},
   "outputs": [
    {
     "name": "stdout",
     "output_type": "stream",
     "text": [
      "X has 2 features, but RandomForestClassifier is expecting 11 features as input.\n"
     ]
    }
   ],
   "source": [
    "predictions = predict_dga('d3e7f4g9h2.org', loaded_model_rf,scaler,tokenizer)\n",
    "print(predictions)"
   ]
  },
  {
   "cell_type": "code",
   "execution_count": 66,
   "id": "946bffef",
   "metadata": {},
   "outputs": [
    {
     "name": "stderr",
     "output_type": "stream",
     "text": [
      "C:\\Users\\shubh\\miniconda3\\lib\\site-packages\\keras\\src\\engine\\training.py:3000: UserWarning: You are saving your model as an HDF5 file via `model.save()`. This file format is considered legacy. We recommend using instead the native Keras format, e.g. `model.save('my_model.keras')`.\n",
      "  saving_api.save_model(\n"
     ]
    }
   ],
   "source": [
    "model_lstm.save('lstm_model.h5')"
   ]
  },
  {
   "cell_type": "code",
   "execution_count": 67,
   "id": "1f669fe7",
   "metadata": {},
   "outputs": [],
   "source": [
    "from tensorflow.keras.models import load_model\n",
    "\n",
    "load_lstm_model = load_model('lstm_model.h5')"
   ]
  },
  {
   "cell_type": "code",
   "execution_count": 69,
   "id": "187bd0c4",
   "metadata": {},
   "outputs": [
    {
     "name": "stderr",
     "output_type": "stream",
     "text": [
      "C:\\Users\\shubh\\miniconda3\\lib\\site-packages\\sklearn\\base.py:439: UserWarning: X does not have valid feature names, but StandardScaler was fitted with feature names\n",
      "  warnings.warn(\n"
     ]
    },
    {
     "name": "stdout",
     "output_type": "stream",
     "text": [
      "1/1 [==============================] - 1s 620ms/step\n",
      "Predictions for Unseen Data:\n",
      "Data point 1: DGA\n",
      "Data point 2: Legit\n"
     ]
    }
   ],
   "source": [
    "# Assuming new_data is your unseen data\n",
    "X_new_scaled = scaler.transform(new_data)\n",
    "X_new_reshaped = X_new_scaled.reshape(X_new_scaled.shape[0], X_new_scaled.shape[1], 1)\n",
    "\n",
    "# Make predictions using the loaded model\n",
    "y_pred_prob = load_lstm_model.predict(X_new_reshaped)\n",
    "y_pred = (y_pred_prob > 0.5).astype(int)\n",
    "\n",
    "print(\"Predictions for Unseen Data:\")\n",
    "for i, prediction in enumerate(y_pred):\n",
    "    if prediction == 0:\n",
    "        print(f'Data point {i + 1}: DGA')\n",
    "    else:\n",
    "        print(f'Data point {i + 1}: Legit')"
   ]
  },
  {
   "cell_type": "code",
   "execution_count": null,
   "id": "939ffb5e",
   "metadata": {},
   "outputs": [],
   "source": []
  },
  {
   "cell_type": "code",
   "execution_count": null,
   "id": "d1f44eb9",
   "metadata": {},
   "outputs": [],
   "source": []
  }
 ],
 "metadata": {
  "kernelspec": {
   "display_name": "Python 3 (ipykernel)",
   "language": "python",
   "name": "python3"
  },
  "language_info": {
   "codemirror_mode": {
    "name": "ipython",
    "version": 3
   },
   "file_extension": ".py",
   "mimetype": "text/x-python",
   "name": "python",
   "nbconvert_exporter": "python",
   "pygments_lexer": "ipython3",
   "version": "3.9.16"
  }
 },
 "nbformat": 4,
 "nbformat_minor": 5
}
